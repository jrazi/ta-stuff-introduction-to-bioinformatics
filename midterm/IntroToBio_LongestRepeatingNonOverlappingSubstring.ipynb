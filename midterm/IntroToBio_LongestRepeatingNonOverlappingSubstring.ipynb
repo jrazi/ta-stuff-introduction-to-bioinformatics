{
  "cells": [
    {
      "cell_type": "markdown",
      "metadata": {
        "id": "GRRo4Ac4lmLI"
      },
      "source": [
        "# Feasible Solutions for Problem 5 of Midterm Exam\n",
        "\n",
        "Since there was a lot of out-of-the-box, creative algorithms written by students in the midterm exam, this notebook implements a set of diverse algorithms to solve the same problem, to make the job of assestment and grading a bit easier."
      ]
    },
    {
      "cell_type": "markdown",
      "metadata": {
        "id": "5fJvB8OrdoLK"
      },
      "source": [
        "## The Problem\n",
        "\n",
        "Consider string S. Suggest a dynamic programming algorithm that finds the longest non-overlapping, repeating substring in $O(n^2)$.\n",
        "\n",
        "Example:\n",
        "S = AACAACAACA\n",
        "Output: AACA"
      ]
    },
    {
      "cell_type": "markdown",
      "metadata": {
        "id": "1ozXRgaLdybc"
      },
      "source": [
        "### Base Class for Algorithms"
      ]
    },
    {
      "cell_type": "code",
      "execution_count": 14,
      "metadata": {
        "id": "KueFRs3ok5w-"
      },
      "outputs": [],
      "source": [
        "from abc import ABC, abstractmethod\n",
        "from typing import List, Tuple\n",
        "\n",
        "class LongestRepeatingSubstring(ABC):\n",
        "    def __init__(self):\n",
        "      pass\n",
        "\n",
        "    @abstractmethod\n",
        "    def find_longest_repeating_substring(self, string) -> List[str]:\n",
        "        pass\n"
      ]
    },
    {
      "cell_type": "markdown",
      "metadata": {
        "id": "Q5k3OpgalltU"
      },
      "source": [
        "## Solving The Problem Using Vanilla Dynamic Programming\n",
        "\n",
        "This method constructs a DP table with lengths of longest common suffixes for substrings ending at each pair of indices. It ensures non-overlapping by checking if the characters at the current indices in the string are equal and only then, does it increment the length of the common suffix from the previous indices. The longest repeating substring is then retrieved by maintaining a running maximum length of the common suffix and the end index of the maximum length substring.\n",
        "\n",
        "#### Recursive Formula\n",
        "\n",
        "The recursive formula for solution using Vanilla Dynamic Programming is:\n",
        "\n",
        "$$\n",
        "\\text{dp}[i][j] =\n",
        "\\begin{cases}\n",
        "\\text{dp}[i-1][j-1] + 1 & \\text{if: } s[i-1] = s[j-1] \\\\\n",
        "0 & \\text{otherwise}\n",
        "\\end{cases}\n",
        "$$\n",
        "\n",
        "#### Complexity\n",
        "\n",
        "The time complexity is $O(n^2)$ due to the double iteration over the string length, and the space complexity is $O(n^2)$ for storing the DP table. The DP table is used to keep track of the lengths of the longest common suffixes of the substrings ending at each pair of indices.\n"
      ]
    },
    {
      "cell_type": "code",
      "execution_count": 15,
      "metadata": {
        "id": "qOcxcnoml66k"
      },
      "outputs": [],
      "source": [
        "class LongestRepeatingSubstringVanillaDP(LongestRepeatingSubstring):\n",
        "    def find_longest_repeating_substring(self, string):\n",
        "        n = len(string)\n",
        "        dp = [[0 for _ in range(n+1)] for _ in range(n+1)]\n",
        "        max_length = 0\n",
        "        end_index = 0\n",
        "\n",
        "        for i in range(1, n+1):\n",
        "            for j in range(i+1, n+1):\n",
        "                if string[i-1] == string[j-1]:\n",
        "                    dp[i][j] = dp[i-1][j-1] + 1\n",
        "                    if dp[i][j] > max_length:\n",
        "                        max_length = dp[i][j]\n",
        "                        end_index = i\n",
        "                else:\n",
        "                    dp[i][j] = 0\n",
        "\n",
        "        return [string[end_index - max_length : end_index]] if max_length > 0 else []\n"
      ]
    },
    {
      "cell_type": "code",
      "execution_count": 16,
      "metadata": {
        "id": "xWzRWIGimOxn"
      },
      "outputs": [],
      "source": [
        "def run_test_cases(lrs: LongestRepeatingSubstring, test_cases: List[Tuple[str, List[str]]]):\n",
        "    for i, (test_case, expected_output) in enumerate(test_cases):\n",
        "        print(f\"Test case {i+1}:\")\n",
        "        print(f\"Input: {test_case}\")\n",
        "        output = lrs.find_longest_repeating_substring(test_case)\n",
        "        print(f\"Output: {output}\")\n",
        "        assert set(output) == set(expected_output), f\"Expected {expected_output}, but got {output}\"\n",
        "        print(\"Output matches expected output.\")\n",
        "        print()\n",
        "\n",
        "\n",
        "test_cases = [\n",
        "    (\"AG\", []),  # Length 2, no repeating substring\n",
        "    (\"ATAT\", [\"AT\"]),  # Length 4, repeating substring \"AT\"\n",
        "    (\"TCGTCG\", [\"TCG\"]),  # Length 6, repeating substring \"TCG\"\n",
        "    (\"CGCGAATTCGCG\", [\"CGCG\"]),  # Length 12, repeating substring \"CGCG\"\n",
        "    (\"TACGTACGTTGCAACGTACGT\", [\"ACGTACGT\"])  # Length 20, repeating substring \"ACGTACGT\"\n",
        "]\n",
        "\n"
      ]
    },
    {
      "cell_type": "code",
      "execution_count": 17,
      "metadata": {
        "colab": {
          "base_uri": "https://localhost:8080/"
        },
        "id": "30h0hYtxwVG5",
        "outputId": "09ae2947-6ffc-4f9b-cfe7-0a1e8f03116a"
      },
      "outputs": [
        {
          "name": "stdout",
          "output_type": "stream",
          "text": [
            "Test case 1:\n",
            "Input: AG\n",
            "Output: []\n",
            "Output matches expected output.\n",
            "\n",
            "Test case 2:\n",
            "Input: ATAT\n",
            "Output: ['AT']\n",
            "Output matches expected output.\n",
            "\n",
            "Test case 3:\n",
            "Input: TCGTCG\n",
            "Output: ['TCG']\n",
            "Output matches expected output.\n",
            "\n",
            "Test case 4:\n",
            "Input: CGCGAATTCGCG\n",
            "Output: ['CGCG']\n",
            "Output matches expected output.\n",
            "\n",
            "Test case 5:\n",
            "Input: TACGTACGTTGCAACGTACGT\n",
            "Output: ['ACGTACGT']\n",
            "Output matches expected output.\n",
            "\n"
          ]
        }
      ],
      "source": [
        "lrs = LongestRepeatingSubstringVanillaDP()\n",
        "\n",
        "run_test_cases(lrs, test_cases)"
      ]
    },
    {
      "cell_type": "markdown",
      "metadata": {
        "id": "x1E3sHPLv_c6"
      },
      "source": [
        "## Suffix Tree/Array with Dynamic Programming"
      ]
    },
    {
      "cell_type": "markdown",
      "metadata": {
        "id": "JOU0UwiF1VrF"
      },
      "source": [
        "This method constructs a suffix array and an LCP array for the string. It then finds the longest repeating substring by finding the maximum value in the LCP array. The time complexity is $O(n^2 \\log n)$ due to the sorting of the suffixes, and the space complexity is $O(n)$ for storing the suffix array and the LCP array.\n",
        "The recursive formula for the longest common prefix (LCP) is:\n",
        "\n",
        "#### Recursive Formula\n",
        "\n",
        "$$\n",
        "\\text{lcp}[i] =\n",
        "\\begin{cases}\n",
        "0 & \\text{if: } i = 0 \\\\\n",
        "\\text{lcp}[i-1] + 1 & \\text{if } s1[i] = s2[i] \\\\\n",
        "0 & \\text{otherwise}\n",
        "\\end{cases}\n",
        "$$\n",
        "\n"
      ]
    },
    {
      "cell_type": "code",
      "execution_count": 18,
      "metadata": {
        "id": "KWAuHMiDuUZg"
      },
      "outputs": [],
      "source": [
        "class LrsSuffixTree(LongestRepeatingSubstring):\n",
        "    def find_longest_repeating_substring(self, string: str) -> List[str]:\n",
        "        n = len(string)\n",
        "        # Construct a suffix array\n",
        "        suffixes = sorted([(string[i:], i) for i in range(n)])\n",
        "        suffix_array = [i for _, i in suffixes]\n",
        "\n",
        "        # Construct a longest common prefix (LCP) array\n",
        "        lcp = [0] * n\n",
        "        for i in range(1, n):\n",
        "            lcp[i] = self._lcp(suffixes[i-1][0], suffixes[i][0])\n",
        "\n",
        "        # Find the longest repeating substring\n",
        "        max_len = max(lcp)\n",
        "        idx = lcp.index(max_len)\n",
        "        start = suffix_array[idx]\n",
        "        end = start + max_len\n",
        "        return [string[start:end]] if max_len > 0 else []\n",
        "\n",
        "    def _lcp(self, s1: str, s2: str) -> int:\n",
        "        i = 0\n",
        "        while i < len(s1) and i < len(s2) and s1[i] == s2[i]:\n",
        "            i += 1\n",
        "        return i\n"
      ]
    },
    {
      "cell_type": "code",
      "execution_count": 19,
      "metadata": {
        "colab": {
          "base_uri": "https://localhost:8080/"
        },
        "id": "hIxZPX5hwXsH",
        "outputId": "222ef81b-60a7-4df9-f286-73820af6ce53"
      },
      "outputs": [
        {
          "name": "stdout",
          "output_type": "stream",
          "text": [
            "Test case 1:\n",
            "Input: AG\n",
            "Output: []\n",
            "Output matches expected output.\n",
            "\n",
            "Test case 2:\n",
            "Input: ATAT\n",
            "Output: ['AT']\n",
            "Output matches expected output.\n",
            "\n",
            "Test case 3:\n",
            "Input: TCGTCG\n",
            "Output: ['TCG']\n",
            "Output matches expected output.\n",
            "\n",
            "Test case 4:\n",
            "Input: CGCGAATTCGCG\n",
            "Output: ['CGCG']\n",
            "Output matches expected output.\n",
            "\n",
            "Test case 5:\n",
            "Input: TACGTACGTTGCAACGTACGT\n",
            "Output: ['ACGTACGT']\n",
            "Output matches expected output.\n",
            "\n"
          ]
        }
      ],
      "source": [
        "lrs = LrsSuffixTree()\n",
        "\n",
        "run_test_cases(lrs, test_cases)"
      ]
    },
    {
      "cell_type": "markdown",
      "metadata": {
        "id": "nSOhMt0Jwfnh"
      },
      "source": [
        "## Solving The Problem Using Local Sequence Alignment\n",
        "\n",
        "This method aligns the string with itself and fills a DP table with lengths of longest common suffixes for substrings ending at each pair of indices. It ensures non-overlapping by checking that the current substring isn't within the previous substring's range. The longest repeating substring is then retrieved by finding the maximum value in the DP table.\n",
        "\n",
        "#### Recursive Formula\n",
        "\n",
        "The recursive formula for solution using local sequence alignment is:\n",
        "\n",
        "$$\n",
        "\\text{dp}[i][j] =\n",
        "\\begin{cases}\n",
        "\\text{dp}[i-1][j-1] + 1 & \\text{if: } s[i-1] = s[j-1] \\text{ and } (j-i) > \\text{dp}[i-1][j-1] \\\\\n",
        "0 & \\text{otherwise}\n",
        "\\end{cases}\n",
        "$$\n",
        "\n",
        "#### Complexity\n",
        "\n",
        "The time complexity is $O(n^2)$ due to the double iteration over the string length, and the space complexity is $O(n^2)$ for storing the DP table."
      ]
    },
    {
      "cell_type": "code",
      "execution_count": 20,
      "metadata": {
        "id": "IIIN04fHwmVS"
      },
      "outputs": [],
      "source": [
        "class LrsLocalSeqAlignment(LongestRepeatingSubstring):\n",
        "    def find_longest_repeating_substring(self, string: str) -> List[str]:\n",
        "        n = len(string)\n",
        "        dp = [[0 for _ in range(n+1)] for _ in range(n+1)]\n",
        "        max_length = 0\n",
        "        end_index = 0\n",
        "\n",
        "        for i in range(1, n+1):\n",
        "            for j in range(i+1, n+1):\n",
        "                if string[i-1] == string[j-1] and (j-i) > dp[i-1][j-1]:\n",
        "                    dp[i][j] = dp[i-1][j-1] + 1\n",
        "                    if dp[i][j] > max_length:\n",
        "                        max_length = dp[i][j]\n",
        "                        end_index = i\n",
        "                else:\n",
        "                    dp[i][j] = 0\n",
        "\n",
        "        if max_length > 0:\n",
        "            return [string[end_index - max_length : end_index]]\n",
        "        else:\n",
        "            return []\n"
      ]
    },
    {
      "cell_type": "code",
      "execution_count": 21,
      "metadata": {
        "colab": {
          "base_uri": "https://localhost:8080/"
        },
        "id": "CTbOBfRqxLYO",
        "outputId": "d3c78699-8e02-4aaf-8a30-4e20c2d2327b"
      },
      "outputs": [
        {
          "name": "stdout",
          "output_type": "stream",
          "text": [
            "Test case 1:\n",
            "Input: AG\n",
            "Output: []\n",
            "Output matches expected output.\n",
            "\n",
            "Test case 2:\n",
            "Input: ATAT\n",
            "Output: ['AT']\n",
            "Output matches expected output.\n",
            "\n",
            "Test case 3:\n",
            "Input: TCGTCG\n",
            "Output: ['TCG']\n",
            "Output matches expected output.\n",
            "\n",
            "Test case 4:\n",
            "Input: CGCGAATTCGCG\n",
            "Output: ['CGCG']\n",
            "Output matches expected output.\n",
            "\n",
            "Test case 5:\n",
            "Input: TACGTACGTTGCAACGTACGT\n",
            "Output: ['ACGTACGT']\n",
            "Output matches expected output.\n",
            "\n"
          ]
        }
      ],
      "source": [
        "lrs = LrsLocalSeqAlignment()\n",
        "\n",
        "run_test_cases(lrs, test_cases)"
      ]
    },
    {
      "cell_type": "markdown",
      "metadata": {
        "id": "FZgSEHpYYJOO"
      },
      "source": [
        "## Solving The Problem Using Trie and Dynamic Programming\n",
        "\n",
        "This method constructs a Trie with all suffixes of the input string. It then aligns the string with itself and fills a DP table with lengths of longest common prefixes for substrings ending at each pair of indices. It ensures non-overlapping by checking that the current substring isn't within the previous substring's range. The longest repeating substring is then retrieved by finding the maximum value in the DP table and the corresponding substring in the Trie.\n",
        "\n",
        "#### Recursive Formula\n",
        "\n",
        "The recursive formula for solution using Trie and Dynamic Programming is:\n",
        "\n",
        "$$\n",
        "\\text{dp}[i][j] =\n",
        "\\begin{cases}\n",
        "\\text{dp}[i-1][j-1] + 1 & \\text{if: } s[i-1] = s[j-1] \\text{ and } \\text{dp}[i-1][j-1] < (j-i) \\\\\n",
        "0 & \\text{otherwise}\n",
        "\\end{cases}\n",
        "$$\n",
        "\n",
        "#### Complexity\n",
        "\n",
        "The time complexity is $O(n^2)$ due to the double iteration over the string length, and the space complexity is $O(n)$ for storing the Trie and the result set. The DP table is used to keep track of the lengths of the longest common prefixes of the substrings ending at each pair of indices, which requires $O(n^2)$ space.\n"
      ]
    },
    {
      "cell_type": "code",
      "execution_count": 22,
      "metadata": {
        "id": "_rUP6hHeYdvd"
      },
      "outputs": [],
      "source": [
        "class TrieNode:\n",
        "    def __init__(self):\n",
        "        self.children = {}\n",
        "        self.indexes = []\n",
        "\n",
        "class Trie:\n",
        "    def __init__(self):\n",
        "        self.root = TrieNode()\n",
        "\n",
        "    def insert(self, string: str, index: int):\n",
        "        node = self.root\n",
        "        for char in string:\n",
        "            if char not in node.children:\n",
        "                node.children[char] = TrieNode()\n",
        "            node = node.children[char]\n",
        "            node.indexes.append(index)\n",
        "\n",
        "    def search(self, string: str):\n",
        "        node = self.root\n",
        "        for char in string:\n",
        "            if char not in node.children:\n",
        "                return []\n",
        "            node = node.children[char]\n",
        "        return node.indexes"
      ]
    },
    {
      "cell_type": "code",
      "execution_count": 23,
      "metadata": {
        "id": "bIV-QyPlYTNN"
      },
      "outputs": [],
      "source": [
        "class LongestRepeatingSubstringDPAndTrie(LongestRepeatingSubstring):\n",
        "    def find_longest_repeating_substring(self, string: str) -> List[str]:\n",
        "        n = len(string)\n",
        "        trie = Trie()\n",
        "        dp = [[0 for j in range(n+1)] for i in range(n+1)]\n",
        "        res_length = 0\n",
        "        res_set = set()\n",
        "\n",
        "        for i in range(n):\n",
        "            indexes = trie.search(string[i:])\n",
        "            trie.insert(string[i:], i)\n",
        "            for j in indexes:\n",
        "                if i > 0 and j > 0:\n",
        "                    dp[i][j] = dp[i-1][j-1] + 1\n",
        "                else:\n",
        "                    dp[i][j] = 1\n",
        "                if dp[i][j] > res_length:\n",
        "                    res_length = dp[i][j]\n",
        "                    res_set.clear()\n",
        "                    res_set.add(string[i-res_length+1:i+1])\n",
        "                elif dp[i][j] == res_length:\n",
        "                    res_set.add(string[i-res_length+1:i+1])\n",
        "\n",
        "        return list(res_set) if res_set else []\n"
      ]
    },
    {
      "cell_type": "code",
      "execution_count": 24,
      "metadata": {
        "colab": {
          "base_uri": "https://localhost:8080/"
        },
        "id": "_RL1akZ7YWKi",
        "outputId": "67653381-f46f-425f-d030-03834b9939d2"
      },
      "outputs": [
        {
          "name": "stdout",
          "output_type": "stream",
          "text": [
            "Test case 1:\n",
            "Input: AG\n",
            "Output: []\n",
            "Output matches expected output.\n",
            "\n",
            "Test case 2:\n",
            "Input: ATAT\n",
            "Output: ['AT']\n",
            "Output matches expected output.\n",
            "\n",
            "Test case 3:\n",
            "Input: TCGTCG\n",
            "Output: ['TCG']\n",
            "Output matches expected output.\n",
            "\n",
            "Test case 4:\n",
            "Input: CGCGAATTCGCG\n",
            "Output: ['CGCG']\n",
            "Output matches expected output.\n",
            "\n",
            "Test case 5:\n",
            "Input: TACGTACGTTGCAACGTACGT\n",
            "Output: ['ACGTACGT']\n",
            "Output matches expected output.\n",
            "\n"
          ]
        }
      ],
      "source": [
        "lrs = LongestRepeatingSubstringDPAndTrie()\n",
        "\n",
        "run_test_cases(lrs, test_cases)"
      ]
    },
    {
      "cell_type": "markdown",
      "metadata": {
        "id": "FJ58XUgv4VxL"
      },
      "source": [
        "## Non Dynamic Programming Solution: Using Hash Table"
      ]
    },
    {
      "cell_type": "markdown",
      "metadata": {
        "id": "a_of3Bg-4b-y"
      },
      "source": [
        "#### The Idea:\n",
        "\n",
        "1. Initialize a hash table to store the hashes of the substrings.\n",
        "2. Start with a window size of 1 and slide it over the entire string to hash all substrings of size 1.\n",
        "3. If a hash already exists in the hash table, check if the substring is non-overlapping with the existing substring. If it is, update the longest repeating non-overlapping substring.\n",
        "4. Increment the window size and repeat steps 2-3 until the window size is equal to the length of the string.\n",
        "\n",
        "#### Complexity\n",
        "\n",
        "The time complexity is $O(n^2)$ because we are sliding a window over the entire string for each window size from 1 to n. The space complexity is also $O(n^2)$ because in the worst case, we might store all substrings of the string in the hash table."
      ]
    },
    {
      "cell_type": "code",
      "execution_count": 25,
      "metadata": {
        "id": "zeIlV7Kj4cOq"
      },
      "outputs": [],
      "source": [
        "class LrsWithRollingHash:\n",
        "    def find_longest_repeating_substring(self, string):\n",
        "        n = len(string)\n",
        "        max_length = 0\n",
        "        max_substring = \"\"\n",
        "\n",
        "        for length in range(1, n):\n",
        "            hash_table = {}\n",
        "            for i in range(n - length + 1):\n",
        "                substr = string[i:i+length]\n",
        "                if substr in hash_table:\n",
        "                    if i - hash_table[substr] >= length:\n",
        "                        max_length = length\n",
        "                        max_substring = substr\n",
        "                else:\n",
        "                    hash_table[substr] = i\n",
        "\n",
        "        return [max_substring] if max_length > 0 else []\n"
      ]
    },
    {
      "cell_type": "code",
      "execution_count": 26,
      "metadata": {
        "colab": {
          "base_uri": "https://localhost:8080/"
        },
        "id": "paks4mnG4kTt",
        "outputId": "1e06ab27-3d6c-4e76-e075-de4a5609ec7c"
      },
      "outputs": [
        {
          "name": "stdout",
          "output_type": "stream",
          "text": [
            "Test case 1:\n",
            "Input: AG\n",
            "Output: []\n",
            "Output matches expected output.\n",
            "\n",
            "Test case 2:\n",
            "Input: ATAT\n",
            "Output: ['AT']\n",
            "Output matches expected output.\n",
            "\n",
            "Test case 3:\n",
            "Input: TCGTCG\n",
            "Output: ['TCG']\n",
            "Output matches expected output.\n",
            "\n",
            "Test case 4:\n",
            "Input: CGCGAATTCGCG\n",
            "Output: ['CGCG']\n",
            "Output matches expected output.\n",
            "\n",
            "Test case 5:\n",
            "Input: TACGTACGTTGCAACGTACGT\n",
            "Output: ['ACGTACGT']\n",
            "Output matches expected output.\n",
            "\n"
          ]
        }
      ],
      "source": [
        "lrs = LrsWithRollingHash()\n",
        "\n",
        "run_test_cases(lrs, test_cases)"
      ]
    }
  ],
  "metadata": {
    "colab": {
      "provenance": []
    },
    "kernelspec": {
      "display_name": "Python 3",
      "name": "python3"
    },
    "language_info": {
      "name": "python"
    }
  },
  "nbformat": 4,
  "nbformat_minor": 0
}
